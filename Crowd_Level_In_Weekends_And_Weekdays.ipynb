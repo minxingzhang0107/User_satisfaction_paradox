{
 "cells": [
  {
   "cell_type": "code",
   "execution_count": 1,
   "id": "38fa8d1a",
   "metadata": {},
   "outputs": [
    {
     "data": {
      "text/html": [
       "<div>\n",
       "<style scoped>\n",
       "    .dataframe tbody tr th:only-of-type {\n",
       "        vertical-align: middle;\n",
       "    }\n",
       "\n",
       "    .dataframe tbody tr th {\n",
       "        vertical-align: top;\n",
       "    }\n",
       "\n",
       "    .dataframe thead th {\n",
       "        text-align: right;\n",
       "    }\n",
       "</style>\n",
       "<table border=\"1\" class=\"dataframe\">\n",
       "  <thead>\n",
       "    <tr style=\"text-align: right;\">\n",
       "      <th></th>\n",
       "      <th>Date</th>\n",
       "      <th>crowd_level</th>\n",
       "      <th>crowd_status</th>\n",
       "      <th>User_satisfaction</th>\n",
       "    </tr>\n",
       "  </thead>\n",
       "  <tbody>\n",
       "    <tr>\n",
       "      <th>0</th>\n",
       "      <td>2021-05-30</td>\n",
       "      <td>0.73</td>\n",
       "      <td>Busy</td>\n",
       "      <td>2.0</td>\n",
       "    </tr>\n",
       "    <tr>\n",
       "      <th>1</th>\n",
       "      <td>2021-05-30</td>\n",
       "      <td>0.73</td>\n",
       "      <td>Busy</td>\n",
       "      <td>1.0</td>\n",
       "    </tr>\n",
       "    <tr>\n",
       "      <th>2</th>\n",
       "      <td>2021-05-30</td>\n",
       "      <td>0.73</td>\n",
       "      <td>Busy</td>\n",
       "      <td>2.0</td>\n",
       "    </tr>\n",
       "    <tr>\n",
       "      <th>3</th>\n",
       "      <td>2021-05-29</td>\n",
       "      <td>0.76</td>\n",
       "      <td>Packed</td>\n",
       "      <td>4.0</td>\n",
       "    </tr>\n",
       "    <tr>\n",
       "      <th>4</th>\n",
       "      <td>2021-05-28</td>\n",
       "      <td>0.63</td>\n",
       "      <td>Busy</td>\n",
       "      <td>5.0</td>\n",
       "    </tr>\n",
       "  </tbody>\n",
       "</table>\n",
       "</div>"
      ],
      "text/plain": [
       "         Date  crowd_level crowd_status  User_satisfaction\n",
       "0  2021-05-30         0.73         Busy                2.0\n",
       "1  2021-05-30         0.73         Busy                1.0\n",
       "2  2021-05-30         0.73         Busy                2.0\n",
       "3  2021-05-29         0.76       Packed                4.0\n",
       "4  2021-05-28         0.63         Busy                5.0"
      ]
     },
     "execution_count": 1,
     "metadata": {},
     "output_type": "execute_result"
    }
   ],
   "source": [
    "import pandas as pd\n",
    "\n",
    "file_path = '/Users/zellazhao/desktop/universal_studio_processed_updated.csv'\n",
    "data = pd.read_csv(file_path)\n",
    "\n",
    "data.head()"
   ]
  },
  {
   "cell_type": "code",
   "execution_count": 2,
   "id": "ce6b137a",
   "metadata": {},
   "outputs": [
    {
     "data": {
      "text/plain": [
       "DayType\n",
       "Weekday    0.375633\n",
       "Weekend    0.444997\n",
       "Name: crowd_level, dtype: float64"
      ]
     },
     "execution_count": 2,
     "metadata": {},
     "output_type": "execute_result"
    }
   ],
   "source": [
    "# Convert 'Date' to datetime and extract day of the week\n",
    "data['Date'] = pd.to_datetime(data['Date'])\n",
    "data['DayOfWeek'] = data['Date'].dt.day_name()\n",
    "\n",
    "# Classify days as 'Weekday' or 'Weekend'\n",
    "weekend_days = ['Saturday', 'Sunday']\n",
    "data['DayType'] = data['DayOfWeek'].apply(lambda x: 'Weekend' if x in weekend_days else 'Weekday')\n",
    "\n",
    "# Group by DayType and calculate mean crowd level\n",
    "average_crowd_by_day_type = data.groupby('DayType')['crowd_level'].mean()\n",
    "\n",
    "# Display the result\n",
    "average_crowd_by_day_type"
   ]
  },
  {
   "cell_type": "code",
   "execution_count": 3,
   "id": "b9c9789f",
   "metadata": {},
   "outputs": [
    {
     "data": {
      "image/png": "[encoded data removed]",
      "text/plain": [
       "<Figure size 432x288 with 1 Axes>"
      ]
     },
     "metadata": {
      "needs_background": "light"
     },
     "output_type": "display_data"
    }
   ],
   "source": [
    "import matplotlib.pyplot as plt\n",
    "\n",
    "average_crowd_by_day_type = data.groupby('DayType')['crowd_level'].mean()\n",
    "\n",
    "# Bar plot for average crowd level by DayType\n",
    "average_crowd_by_day_type.plot(kind='bar', color=['blue', 'orange'])\n",
    "plt.title('Average Crowd Level by Day Type')\n",
    "plt.ylabel('Average Crowd Level')\n",
    "plt.xlabel('Day Type')\n",
    "plt.show()"
   ]
  },
  {
   "cell_type": "code",
   "execution_count": null,
   "id": "79dfb05f",
   "metadata": {},
   "outputs": [],
   "source": []
  }
 ],
 "metadata": {
  "kernelspec": {
   "display_name": "Python 3 (ipykernel)",
   "language": "python",
   "name": "python3"
  },
  "language_info": {
   "codemirror_mode": {
    "name": "ipython",
    "version": 3
   },
   "file_extension": ".py",
   "mimetype": "text/x-python",
   "name": "python",
   "nbconvert_exporter": "python",
   "pygments_lexer": "ipython3",
   "version": "3.9.12"
  }
 },
 "nbformat": 4,
 "nbformat_minor": 5
}
